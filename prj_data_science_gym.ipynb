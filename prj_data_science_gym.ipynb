{
 "cells": [
  {
   "attachments": {},
   "cell_type": "markdown",
   "metadata": {},
   "source": [
    "# First data science project - data science gym\n",
    "\n",
    "## Introduction\n",
    "\n",
    "**Project description**\n",
    "\n",
    "The fitness center network, 'Bodybuilder-Data Scientist,' is working on a strategy to engage users based on analytical data. One of the most common problems facing fitness clubs and similar services is customer churn. It's not always clear when a user has stopped using the service, as they may not always leave in an obvious way.\n",
    "\n",
    "For a fitness center, a client is considered to have churned if they haven't visited the gym at least once in the last month. While it's possible that they went on vacation and will return to the gym upon their arrival, it's more likely that they won't. If a client starts going to the gym but then suddenly stops, they are unlikely to return.\n",
    "\n",
    "Your task is to analyze the data and develop an action plan to retain customers.\n",
    "\n",
    "Specifically, the objectives are to:\n",
    "\n",
    "1. Learn how to predict the probability of customer churn (for the following month) for each client.\n",
    "2. Create typical user profiles: identify several of the most prominent groups and characterize their key attributes.\n",
    "3. Analyze the main features that have the greatest impact on churn.\n",
    "4. Formulate key conclusions and develop recommendations to improve customer relationship management, including:\n",
    "   1. Identifying target customer groups;\n",
    "   2. Proposing measures to reduce churn;\n",
    "   3. Determining other nuances of customer interactions.\n",
    "\n",
    "**Data description**\n",
    "\n",
    "We have a dataset `gym_churn.csv` containing information about the month prior to churn and the fact of churn for a specific month. The dataset includes the following fields:\n",
    "\n",
    "1. `Churn` - indicating whether the customer churned in the current month.\n",
    "\n",
    "The current fields in the dataset contain user data for the month prior to the churn check, such as:\n",
    "\n",
    "2. `Gender` - the gender of the customer.\n",
    "3. `Near_Location` - whether the customer lives or works in the area where the fitness center is located.\n",
    "4. `Partner` - indicating whether the customer is an employee of a club partner company, in which case the fitness center stores information about the customer's employer.\n",
    "5. `Promo_friends` - indicating whether the customer registered under the \"bring a friend\" promotion, using a promo code from an acquaintance when paying for the first subscription.\n",
    "6. `Phone` - indicating whether the customer provided a contact phone number.\n",
    "7. `Age` - the age of the customer.\n",
    "8. `Lifetime` - the time since the customer's first visit to the fitness center (in months).\n",
    "\n",
    "The dataset also includes information based on the client's visit log, purchases, and current subscription status, such as:\n",
    "\n",
    "9. `Contract_period` - the duration of the customer's current active subscription, which can be a month, 3 months, 6 months, or a year.\n",
    "10. `Month_to_end_contract` - the time until the end of the customer's current active subscription (in months).\n",
    "11. `Group_visits` - indicating whether the customer attends group classes.\n",
    "12. `Avg_class_frequency_total` - the average frequency of visits per week for the entire duration of the subscription.\n",
    "13. `Avg_class_frequency_current_month` - the average frequency of visits per week for the previous month.\n",
    "14. `Avg_additional_charges_total` - the total revenue from other fitness center services, such as cafes, sports goods, beauty, and massage salon."
   ]
  }
 ],
 "metadata": {
  "kernelspec": {
   "display_name": "base",
   "language": "python",
   "name": "python3"
  },
  "language_info": {
   "codemirror_mode": {
    "name": "ipython",
    "version": 3
   },
   "file_extension": ".py",
   "mimetype": "text/x-python",
   "name": "python",
   "nbconvert_exporter": "python",
   "pygments_lexer": "ipython3",
   "version": "3.9.7"
  },
  "orig_nbformat": 4,
  "vscode": {
   "interpreter": {
    "hash": "95633e14b7ea774968f538ab8687a60d358136f4a990a7903a22cc539dc1dcdb"
   }
  }
 },
 "nbformat": 4,
 "nbformat_minor": 2
}
